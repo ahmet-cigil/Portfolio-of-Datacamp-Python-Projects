{
  "nbformat": 4,
  "nbformat_minor": 0,
  "metadata": {
    "colab": {
      "name": "Advanced_Iteration_Looping_On_DataFrames.ipynb",
      "provenance": []
    },
    "kernelspec": {
      "name": "python3",
      "display_name": "Python 3"
    }
  },
  "cells": [
    {
      "cell_type": "markdown",
      "metadata": {
        "id": "nJBi91eofjob"
      },
      "source": [
        "Check out the YouTube video that explains this topic: https://youtu.be/CG3EV7UBELA"
      ]
    },
    {
      "cell_type": "code",
      "metadata": {
        "id": "N50p89Tid-8m"
      },
      "source": [
        "import pandas as pd\n",
        "import numpy as np"
      ],
      "execution_count": 1,
      "outputs": []
    },
    {
      "cell_type": "markdown",
      "metadata": {
        "id": "YTj9uFQLfez5"
      },
      "source": [
        "\n",
        "Create a dataset with 10,000 rows of random values between 0 and 1"
      ]
    },
    {
      "cell_type": "code",
      "metadata": {
        "id": "9KCjzx_2fZ59"
      },
      "source": [
        "df = pd.DataFrame(np.random.rand(10000,5), columns=('A','B','C','D','E'))"
      ],
      "execution_count": 2,
      "outputs": []
    },
    {
      "cell_type": "code",
      "metadata": {
        "colab": {
          "base_uri": "https://localhost:8080/",
          "height": 297
        },
        "id": "m_hjZB1effkb",
        "outputId": "4157fbf8-62f6-4eff-9d93-d9e0a4509f8f"
      },
      "source": [
        "df.describe()"
      ],
      "execution_count": 3,
      "outputs": [
        {
          "output_type": "execute_result",
          "data": {
            "text/html": [
              "<div>\n",
              "<style scoped>\n",
              "    .dataframe tbody tr th:only-of-type {\n",
              "        vertical-align: middle;\n",
              "    }\n",
              "\n",
              "    .dataframe tbody tr th {\n",
              "        vertical-align: top;\n",
              "    }\n",
              "\n",
              "    .dataframe thead th {\n",
              "        text-align: right;\n",
              "    }\n",
              "</style>\n",
              "<table border=\"1\" class=\"dataframe\">\n",
              "  <thead>\n",
              "    <tr style=\"text-align: right;\">\n",
              "      <th></th>\n",
              "      <th>A</th>\n",
              "      <th>B</th>\n",
              "      <th>C</th>\n",
              "      <th>D</th>\n",
              "      <th>E</th>\n",
              "    </tr>\n",
              "  </thead>\n",
              "  <tbody>\n",
              "    <tr>\n",
              "      <th>count</th>\n",
              "      <td>10000.000000</td>\n",
              "      <td>10000.000000</td>\n",
              "      <td>10000.000000</td>\n",
              "      <td>10000.000000</td>\n",
              "      <td>10000.000000</td>\n",
              "    </tr>\n",
              "    <tr>\n",
              "      <th>mean</th>\n",
              "      <td>0.496377</td>\n",
              "      <td>0.498247</td>\n",
              "      <td>0.497853</td>\n",
              "      <td>0.502078</td>\n",
              "      <td>0.500196</td>\n",
              "    </tr>\n",
              "    <tr>\n",
              "      <th>std</th>\n",
              "      <td>0.289925</td>\n",
              "      <td>0.287222</td>\n",
              "      <td>0.289450</td>\n",
              "      <td>0.290236</td>\n",
              "      <td>0.287587</td>\n",
              "    </tr>\n",
              "    <tr>\n",
              "      <th>min</th>\n",
              "      <td>0.000314</td>\n",
              "      <td>0.000015</td>\n",
              "      <td>0.000019</td>\n",
              "      <td>0.000008</td>\n",
              "      <td>0.000037</td>\n",
              "    </tr>\n",
              "    <tr>\n",
              "      <th>25%</th>\n",
              "      <td>0.246579</td>\n",
              "      <td>0.248700</td>\n",
              "      <td>0.245901</td>\n",
              "      <td>0.250680</td>\n",
              "      <td>0.248988</td>\n",
              "    </tr>\n",
              "    <tr>\n",
              "      <th>50%</th>\n",
              "      <td>0.493952</td>\n",
              "      <td>0.502909</td>\n",
              "      <td>0.498671</td>\n",
              "      <td>0.503460</td>\n",
              "      <td>0.503903</td>\n",
              "    </tr>\n",
              "    <tr>\n",
              "      <th>75%</th>\n",
              "      <td>0.744602</td>\n",
              "      <td>0.742103</td>\n",
              "      <td>0.749529</td>\n",
              "      <td>0.752737</td>\n",
              "      <td>0.749442</td>\n",
              "    </tr>\n",
              "    <tr>\n",
              "      <th>max</th>\n",
              "      <td>0.999714</td>\n",
              "      <td>0.999938</td>\n",
              "      <td>0.999286</td>\n",
              "      <td>0.999943</td>\n",
              "      <td>0.999978</td>\n",
              "    </tr>\n",
              "  </tbody>\n",
              "</table>\n",
              "</div>"
            ],
            "text/plain": [
              "                  A             B             C             D             E\n",
              "count  10000.000000  10000.000000  10000.000000  10000.000000  10000.000000\n",
              "mean       0.496377      0.498247      0.497853      0.502078      0.500196\n",
              "std        0.289925      0.287222      0.289450      0.290236      0.287587\n",
              "min        0.000314      0.000015      0.000019      0.000008      0.000037\n",
              "25%        0.246579      0.248700      0.245901      0.250680      0.248988\n",
              "50%        0.493952      0.502909      0.498671      0.503460      0.503903\n",
              "75%        0.744602      0.742103      0.749529      0.752737      0.749442\n",
              "max        0.999714      0.999938      0.999286      0.999943      0.999978"
            ]
          },
          "metadata": {
            "tags": []
          },
          "execution_count": 3
        }
      ]
    },
    {
      "cell_type": "markdown",
      "metadata": {
        "id": "C1dm_fxpftPy"
      },
      "source": [
        "## **iterrows**"
      ]
    },
    {
      "cell_type": "code",
      "metadata": {
        "colab": {
          "base_uri": "https://localhost:8080/"
        },
        "id": "8ZnVUSGZfppw",
        "outputId": "a70091d9-369c-4854-f417-b864fd549dbf"
      },
      "source": [
        "for i, row in df.iterrows():\n",
        "    while i < 3:\n",
        "        print(f'i = {i}')\n",
        "        print('')\n",
        "        print('Returned Row:')\n",
        "        print(row)\n",
        "        print('')\n",
        "        print(f\"Column B: {row['B']}\")\n",
        "        print(\"<----------------------------------->\")\n",
        "        print('')\n",
        "        break"
      ],
      "execution_count": 4,
      "outputs": [
        {
          "output_type": "stream",
          "text": [
            "i = 0\n",
            "\n",
            "Returned Row:\n",
            "A    0.250116\n",
            "B    0.128666\n",
            "C    0.673821\n",
            "D    0.964676\n",
            "E    0.673199\n",
            "Name: 0, dtype: float64\n",
            "\n",
            "Column B: 0.1286656224205216\n",
            "<----------------------------------->\n",
            "\n",
            "i = 1\n",
            "\n",
            "Returned Row:\n",
            "A    0.468977\n",
            "B    0.418127\n",
            "C    0.182244\n",
            "D    0.608990\n",
            "E    0.240369\n",
            "Name: 1, dtype: float64\n",
            "\n",
            "Column B: 0.4181273810093029\n",
            "<----------------------------------->\n",
            "\n",
            "i = 2\n",
            "\n",
            "Returned Row:\n",
            "A    0.441664\n",
            "B    0.654409\n",
            "C    0.398197\n",
            "D    0.691576\n",
            "E    0.852308\n",
            "Name: 2, dtype: float64\n",
            "\n",
            "Column B: 0.6544087598653868\n",
            "<----------------------------------->\n",
            "\n"
          ],
          "name": "stdout"
        }
      ]
    },
    {
      "cell_type": "markdown",
      "metadata": {
        "id": "VNADrAfrhFhQ"
      },
      "source": [
        "\n",
        "If we compare the first three rows returned with df.iterrows to the first three rows from df.head(3) we see they are the same :)\n",
        "\n"
      ]
    },
    {
      "cell_type": "code",
      "metadata": {
        "colab": {
          "base_uri": "https://localhost:8080/",
          "height": 142
        },
        "id": "9eAaV6AafyaD",
        "outputId": "0936bdca-e802-4fa6-e5b3-8f2f747df9b7"
      },
      "source": [
        "df.head(3)"
      ],
      "execution_count": 5,
      "outputs": [
        {
          "output_type": "execute_result",
          "data": {
            "text/html": [
              "<div>\n",
              "<style scoped>\n",
              "    .dataframe tbody tr th:only-of-type {\n",
              "        vertical-align: middle;\n",
              "    }\n",
              "\n",
              "    .dataframe tbody tr th {\n",
              "        vertical-align: top;\n",
              "    }\n",
              "\n",
              "    .dataframe thead th {\n",
              "        text-align: right;\n",
              "    }\n",
              "</style>\n",
              "<table border=\"1\" class=\"dataframe\">\n",
              "  <thead>\n",
              "    <tr style=\"text-align: right;\">\n",
              "      <th></th>\n",
              "      <th>A</th>\n",
              "      <th>B</th>\n",
              "      <th>C</th>\n",
              "      <th>D</th>\n",
              "      <th>E</th>\n",
              "    </tr>\n",
              "  </thead>\n",
              "  <tbody>\n",
              "    <tr>\n",
              "      <th>0</th>\n",
              "      <td>0.250116</td>\n",
              "      <td>0.128666</td>\n",
              "      <td>0.673821</td>\n",
              "      <td>0.964676</td>\n",
              "      <td>0.673199</td>\n",
              "    </tr>\n",
              "    <tr>\n",
              "      <th>1</th>\n",
              "      <td>0.468977</td>\n",
              "      <td>0.418127</td>\n",
              "      <td>0.182244</td>\n",
              "      <td>0.608990</td>\n",
              "      <td>0.240369</td>\n",
              "    </tr>\n",
              "    <tr>\n",
              "      <th>2</th>\n",
              "      <td>0.441664</td>\n",
              "      <td>0.654409</td>\n",
              "      <td>0.398197</td>\n",
              "      <td>0.691576</td>\n",
              "      <td>0.852308</td>\n",
              "    </tr>\n",
              "  </tbody>\n",
              "</table>\n",
              "</div>"
            ],
            "text/plain": [
              "          A         B         C         D         E\n",
              "0  0.250116  0.128666  0.673821  0.964676  0.673199\n",
              "1  0.468977  0.418127  0.182244  0.608990  0.240369\n",
              "2  0.441664  0.654409  0.398197  0.691576  0.852308"
            ]
          },
          "metadata": {
            "tags": []
          },
          "execution_count": 5
        }
      ]
    },
    {
      "cell_type": "code",
      "metadata": {
        "id": "WlrxWPQihIOY"
      },
      "source": [
        "# .at[i,col] means at index col\n",
        "\n",
        "def iterrow_example(df, col):\n",
        "    for i, row in df.iterrows():\n",
        "        val = row[col]\n",
        "        if val < .5:\n",
        "            df.at[i,col] = 0     \n",
        "        else:\n",
        "            df.at[i,col] = 1"
      ],
      "execution_count": 7,
      "outputs": []
    },
    {
      "cell_type": "markdown",
      "metadata": {
        "id": "PeaqtrBThpwW"
      },
      "source": [
        "Here we use the magic method timeit to let us know how long it takes to execute the line of code\n",
        "We allso call the iterrow_example function\n",
        "In this example I got 553 ms ± 8.24 ms (If you execute this code it may be different for you, but the patterns bellow should hold)"
      ]
    },
    {
      "cell_type": "code",
      "metadata": {
        "colab": {
          "base_uri": "https://localhost:8080/"
        },
        "id": "UYHp9uVUhhN-",
        "outputId": "df9f8ef0-fc73-4cfc-c1fa-c7a1ba843959"
      },
      "source": [
        "%timeit iterrow_example(df, 'A')"
      ],
      "execution_count": 8,
      "outputs": [
        {
          "output_type": "stream",
          "text": [
            "1 loop, best of 3: 685 ms per loop\n"
          ],
          "name": "stdout"
        }
      ]
    },
    {
      "cell_type": "markdown",
      "metadata": {
        "id": "2l11G0TaijJ2"
      },
      "source": [
        "## **pd.loc / pd.iloc**"
      ]
    },
    {
      "cell_type": "markdown",
      "metadata": {
        "id": "lioX9yLXiWs2"
      },
      "source": [
        "Another way we can loop over the rows of a df is to use pd.loc or pd.iloc.\n",
        "We create a function below to iterate over the df and then we call it."
      ]
    },
    {
      "cell_type": "code",
      "metadata": {
        "id": "e4AT6vtZh1HT"
      },
      "source": [
        "def iloc_test(df, col):\n",
        "    for i in df.index:\n",
        "        val = df[col].iloc[i]\n",
        "        if val < .5:\n",
        "            df.at[i,col] = 0     \n",
        "        else:\n",
        "            df.at[i,col] = 1"
      ],
      "execution_count": 10,
      "outputs": []
    },
    {
      "cell_type": "code",
      "metadata": {
        "colab": {
          "base_uri": "https://localhost:8080/"
        },
        "id": "EmDwQc6XinGV",
        "outputId": "59cb3ef3-5dd8-4d26-eddf-3a2b81ad0c7c"
      },
      "source": [
        "%timeit iloc_test(df, 'B')"
      ],
      "execution_count": 11,
      "outputs": [
        {
          "output_type": "stream",
          "text": [
            "1 loop, best of 3: 199 ms per loop\n"
          ],
          "name": "stdout"
        }
      ]
    },
    {
      "cell_type": "markdown",
      "metadata": {
        "id": "m9b_LWH_i6DR"
      },
      "source": [
        "## **Apply with lambda**"
      ]
    },
    {
      "cell_type": "markdown",
      "metadata": {
        "id": "g4jOT5dGi_fj"
      },
      "source": [
        "Here we use the .apply method with a lambda function to get even better performance.\n",
        "In this example I got 3.51 ms ± 216 µs.\n",
        "That's over 50 times faster than our previous best with pd.iloc!\n",
        "LET'S GO FASTER!!!"
      ]
    },
    {
      "cell_type": "code",
      "metadata": {
        "colab": {
          "base_uri": "https://localhost:8080/"
        },
        "id": "-Soe_kcDirvT",
        "outputId": "27bfb372-45f5-4fa5-8c1c-ba6df585412b"
      },
      "source": [
        "\n",
        "%timeit df['C'] = df['C'].apply(lambda x : 0 if x < .5 else 1)"
      ],
      "execution_count": 12,
      "outputs": [
        {
          "output_type": "stream",
          "text": [
            "100 loops, best of 3: 3.94 ms per loop\n"
          ],
          "name": "stdout"
        }
      ]
    },
    {
      "cell_type": "markdown",
      "metadata": {
        "id": "AEehNg4ejE6v"
      },
      "source": [
        "## **np.where()**"
      ]
    },
    {
      "cell_type": "markdown",
      "metadata": {
        "id": "zis2Jj1-jKOF"
      },
      "source": [
        "\n",
        "https://www.youtube.com/watch?v=nxWginnBklU\n",
        "\n",
        "np.where( conditional statment -> bool array, series/array/function()/scalar if true, series/array/function()/scalar if False )\n",
        "\n",
        "Here we use the np.where method where we pass in our entire column of data with the condition we are testing for. Then we pass in the value we want if the condition is true and the value if the condition is false.\n",
        "\n",
        "223 µs ± 13.4 µs! 16 times faster than our previous best with .apply()\n",
        "Can we go any faster? Yup!"
      ]
    },
    {
      "cell_type": "code",
      "metadata": {
        "colab": {
          "base_uri": "https://localhost:8080/"
        },
        "id": "MxSRSwIli4--",
        "outputId": "7d911ecd-63f3-414a-e930-c7d20919dee3"
      },
      "source": [
        "%timeit df['D'] = np.where(df['D'] < .5, 0, 1)"
      ],
      "execution_count": 13,
      "outputs": [
        {
          "output_type": "stream",
          "text": [
            "The slowest run took 99.05 times longer than the fastest. This could mean that an intermediate result is being cached.\n",
            "1000 loops, best of 3: 411 µs per loop\n"
          ],
          "name": "stdout"
        }
      ]
    },
    {
      "cell_type": "markdown",
      "metadata": {
        "id": "6q96c4EDjYxR"
      },
      "source": [
        "\n",
        "When can squeeze out a little more performance by converting our pandas series into a numpy array by using .values\n",
        "\n",
        "93.2 µs ± 527 ns\n",
        "Over 2 times speed up from our previous best and almost 6,000 times faster than df.iterrows.\n",
        "These numbers are relative though. With a smaller amount of data the differences wouldn't be as big, but with larger datasets the differences would be even more exaggerated."
      ]
    },
    {
      "cell_type": "code",
      "metadata": {
        "colab": {
          "base_uri": "https://localhost:8080/"
        },
        "id": "EN_F7VlsjNV0",
        "outputId": "561ffa44-ec26-4556-d1dd-06a10addfd30"
      },
      "source": [
        "%timeit df['E'] = np.where(df['E'].values < .5, 0, 1)"
      ],
      "execution_count": 14,
      "outputs": [
        {
          "output_type": "stream",
          "text": [
            "The slowest run took 11.16 times longer than the fastest. This could mean that an intermediate result is being cached.\n",
            "10000 loops, best of 3: 177 µs per loop\n"
          ],
          "name": "stdout"
        }
      ]
    },
    {
      "cell_type": "markdown",
      "metadata": {
        "id": "UF7PEDFGjjMC"
      },
      "source": [
        "If you have elif conditions thne use numpy.select instead.\n",
        "conditions can be chained ((df[col ==no]) & (df['Providers']==0))"
      ]
    },
    {
      "cell_type": "code",
      "metadata": {
        "id": "5PgyzVYyjmWH"
      },
      "source": [
        "conditions = [] # List all the conditions \n",
        "choices = [] # List all of the options\n",
        "df[col] = np.select(conditions, choices, default='NA')"
      ],
      "execution_count": null,
      "outputs": []
    },
    {
      "cell_type": "markdown",
      "metadata": {
        "id": "9FfbZ3N-jtQZ"
      },
      "source": [
        "## **References**"
      ]
    },
    {
      "cell_type": "markdown",
      "metadata": {
        "id": "62hLJ1FvjonE"
      },
      "source": [
        "\n",
        "\n",
        "YouTube Videos (Pycon Talks)\n",
        "1000x faster data manipulation: vectorizing with Pandas and Numpy\n",
        "https://www.youtube.com/watch?v=nxWginnBklU\n",
        "\n",
        "Sofia Heisler No more sad pandas optimizing pandas code for speed and efficiency PyCon 2017\n",
        "https://www.youtube.com/watch?v=HN5d490_KKk&feature=youtu.be\n",
        "\n",
        "\n",
        "Articles\n",
        "Optimum approach for iterating over a DataFrame\n",
        "https://medium.com/@rtjeannier/pandas-101-cont-9d061cb73bfc\n",
        "\n",
        "Crude looping in Pandas, or That Thing You Should Never Ever Do\n",
        "https://engineering.upside.com/a-beginners-guide-to-optimizing-pandas-code-for-speed-c09ef2c6a4d6"
      ]
    },
    {
      "cell_type": "code",
      "metadata": {
        "id": "UPbadwahjsip"
      },
      "source": [
        ""
      ],
      "execution_count": null,
      "outputs": []
    }
  ]
}